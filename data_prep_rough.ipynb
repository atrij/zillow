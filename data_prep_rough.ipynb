{
 "cells": [
  {
   "cell_type": "code",
   "execution_count": 1,
   "metadata": {
    "collapsed": true
   },
   "outputs": [],
   "source": [
    "import numpy as np\n",
    "import pandas as pd\n",
    "import matplotlib.pyplot as plt"
   ]
  },
  {
   "cell_type": "code",
   "execution_count": 2,
   "metadata": {},
   "outputs": [
    {
     "name": "stderr",
     "output_type": "stream",
     "text": [
      "/home/atrij/miniconda2/lib/python2.7/site-packages/IPython/core/interactiveshell.py:2717: DtypeWarning: Columns (22,32,34,49,55) have mixed types. Specify dtype option on import or set low_memory=False.\n",
      "  interactivity=interactivity, compiler=compiler, result=result)\n"
     ]
    }
   ],
   "source": [
    "properties = pd.read_csv('data/properties_2016.csv')\n"
   ]
  },
  {
   "cell_type": "code",
   "execution_count": 3,
   "metadata": {
    "collapsed": true
   },
   "outputs": [],
   "source": [
    "# list of colums to be manipulated\n",
    "#https://docs.google.com/spreadsheets/d/1-BYLToexfG88FU2asLv6f2oPdQxw1a4LB8SEYakUQCY/edit#gid=650561714&range=A1:D32\n",
    "\n",
    "# colums to be removed\n",
    "col_removal=['calculatedbathnbr','decktypeid','fireplaceflag','parcelid','taxdelinquencyflag']\n",
    "\n",
    "# columns to be binarised\n",
    "col_dum_1=['hashottuborspa','poolcnt','pooltypeid10','pooltypeid2','pooltypeid7']\n",
    "\n",
    "col_dum_2=['architecturalstyletypeid','buildingclasstypeid','storytypeid','typeconstructiontypeid']\n",
    "\n",
    "# columns where nan's are to be filled with zero (or any other static value)\n",
    "col_impute_static=['fireplacecnt','garagecarcnt','garagetotalsqft']"
   ]
  },
  {
   "cell_type": "code",
   "execution_count": 4,
   "metadata": {
    "collapsed": true
   },
   "outputs": [],
   "source": [
    "# column removal\n",
    "properties=properties.drop(col_removal,axis=1)\n",
    "\n"
   ]
  },
  {
   "cell_type": "code",
   "execution_count": 5,
   "metadata": {},
   "outputs": [
    {
     "name": "stdout",
     "output_type": "stream",
     "text": [
      "hashottuborspa\n",
      "poolcnt\n",
      "pooltypeid10\n",
      "pooltypeid2\n",
      "pooltypeid7\n"
     ]
    }
   ],
   "source": [
    "# column binarisation\n",
    "col_changed=[]\n",
    "for c in col_dum_1:\n",
    "    print c\n",
    "    properties[c]=properties[c].fillna(0)\n",
    "    properties=pd.get_dummies(properties,drop_first=True, columns=[c])\n",
    "    col_changed.append(c)"
   ]
  },
  {
   "cell_type": "code",
   "execution_count": null,
   "metadata": {},
   "outputs": [],
   "source": [
    "for c in col_dum_2:\n",
    "    print c\n",
    "    properties=pd.get_dummies(properties,dummy_na= True, columns=[c])\n"
   ]
  },
  {
   "cell_type": "code",
   "execution_count": 8,
   "metadata": {
    "collapsed": true
   },
   "outputs": [],
   "source": [
    "for c in col_impute_static:\n",
    "    properties[c]=properties[c].fillna(0)"
   ]
  },
  {
   "cell_type": "markdown",
   "metadata": {},
   "source": [
    "### create a pipeline as following\n",
    "1. pick a feature, impute other values using a particular strategy\n",
    "2. fill these values using regressor/classifier\n",
    "3. repeat for every feature untill all are genuinly imputed\n"
   ]
  }
 ],
 "metadata": {
  "kernelspec": {
   "display_name": "Python 2",
   "language": "python",
   "name": "python2"
  },
  "language_info": {
   "codemirror_mode": {
    "name": "ipython",
    "version": 2
   },
   "file_extension": ".py",
   "mimetype": "text/x-python",
   "name": "python",
   "nbconvert_exporter": "python",
   "pygments_lexer": "ipython2",
   "version": "2.7.13"
  }
 },
 "nbformat": 4,
 "nbformat_minor": 2
}
